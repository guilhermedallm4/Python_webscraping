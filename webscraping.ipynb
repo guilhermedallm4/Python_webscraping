{
 "cells": [
  {
   "cell_type": "code",
   "execution_count": 1,
   "id": "4fb7418d-1a77-4ea6-8348-83f34ad74480",
   "metadata": {},
   "outputs": [
    {
     "ename": "SyntaxError",
     "evalue": "EOL while scanning string literal (Temp/ipykernel_4904/737084343.py, line 43)",
     "output_type": "error",
     "traceback": [
      "\u001b[1;36m  File \u001b[1;32m\"C:\\Users\\guilh\\AppData\\Local\\Temp/ipykernel_4904/737084343.py\"\u001b[1;36m, line \u001b[1;32m43\u001b[0m\n\u001b[1;33m    print('\\n\\n')''''\u001b[0m\n\u001b[1;37m                     \n^\u001b[0m\n\u001b[1;31mSyntaxError\u001b[0m\u001b[1;31m:\u001b[0m EOL while scanning string literal\n"
     ]
    }
   ],
   "source": [
    "'''import requests\n",
    "from bs4 import BeautifulSoup\n",
    "\n",
    "response = requests.get('https://www.receitasnestle.com.br/nossas-receitas')\n",
    "site = BeautifulSoup(response.text, 'html.parser')\n",
    "menu_receitas = site.findAll('h2', attrs={'class': 'title'})\n",
    "for categorias_receitas in menu_receitas:\n",
    "    titulo = categorias_receitas.text\n",
    "    aux_link = str(titulo)\n",
    "    aux_link = aux_link.replace(' ','-')\n",
    "    if(aux_link != \"Com-um-cadastro-em-Receitas-Nestlé,-tenha-acesso-a:\" and aux_link != \"Fique-por-dentro-das-novidades-e-tenha-acesso-à-benefícios-exclusivos.\" and  aux_link != \"Crie-sua-conta:\" and aux_link != \"Quer-ficar-por-dentro-das-novidades-de-Receitas-Nestlé,-criar-foodlists-e-receber-dicas?\"):\n",
    "        link = \"https://www.receitasnestle.com.br/categorias/\" + aux_link\n",
    "        print(link)\n",
    "        get_url = link\n",
    "        second_execute = requests.get(get_url)\n",
    "        introduction = BeautifulSoup(second_execute.text, 'html.parser')\n",
    "        receitas = introduction.findAll('div', attrs={'class': 'text'})\n",
    "        for receita in receitas:\n",
    "            titulo = receita.find('h2', attrs={'class': 'title'})\n",
    "            aux_link = str(titulo.text)\n",
    "            aux_link = aux_link.replace(' ','-')\n",
    "            link_two = \"https://www.receitasnestle.com.br/receitas/\" + aux_link\n",
    "            get_url = link_two\n",
    "            if(get_url == 'https://www.receitasnestle.com.br/receitas/'):\n",
    "                break\n",
    "            second_execute = requests.get(get_url)\n",
    "            if(second_execute.status_code != 404):\n",
    "                second_execute = requests.get(get_url)\n",
    "                introduction = BeautifulSoup(second_execute.text, 'html.parser')\n",
    "                aux_ingrediente = introduction.findAll('div', attrs={'class': 'view-content'})\n",
    "                aux_metodo = introduction.findAll('div', attrs={'class': 'view-contents'})\n",
    "                for ingrediente in aux_ingrediente:\n",
    "                    texto = ingrediente.find('ul')\n",
    "                    ingred = texto.text\n",
    "                    break\n",
    "                for metodo in aux_metodo:\n",
    "                    metd = metodo.text\n",
    "                if(link != 'https://www.receitasnestle.com.br/receitas/' and link != 'https://www.receitasnestle.com.br/receitas/Origem,-história-e-curiosidades'):\n",
    "                    print('titulo:', titulo.text)\n",
    "                    print('\\nLink:', link_two)\n",
    "                    print('\\nIngredientes:', ingred)\n",
    "                    print('\\nModo de Preparo:', metd)\n",
    "                    print('\\n\\n')''''\n",
    "             \n",
    "              \n",
    "        "
   ]
  },
  {
   "cell_type": "code",
   "execution_count": null,
   "id": "08651369-f68f-4358-b71c-39989aaac818",
   "metadata": {},
   "outputs": [],
   "source": []
  },
  {
   "cell_type": "code",
   "execution_count": null,
   "id": "7fe72282-84ab-4e89-88a8-430c0776fe20",
   "metadata": {},
   "outputs": [],
   "source": []
  },
  {
   "cell_type": "code",
   "execution_count": null,
   "id": "861a1c2c-1cae-460e-b3b6-0776fdbc41ca",
   "metadata": {},
   "outputs": [],
   "source": []
  }
 ],
 "metadata": {
  "kernelspec": {
   "display_name": "Python 3 (ipykernel)",
   "language": "python",
   "name": "python3"
  },
  "language_info": {
   "codemirror_mode": {
    "name": "ipython",
    "version": 3
   },
   "file_extension": ".py",
   "mimetype": "text/x-python",
   "name": "python",
   "nbconvert_exporter": "python",
   "pygments_lexer": "ipython3",
   "version": "3.9.7"
  }
 },
 "nbformat": 4,
 "nbformat_minor": 5
}
